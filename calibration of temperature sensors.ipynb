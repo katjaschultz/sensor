{
 "cells": [
  {
   "cell_type": "code",
   "execution_count": 1,
   "id": "9f701fc8",
   "metadata": {},
   "outputs": [],
   "source": [
    "import numpy as np\n",
    "import math\n",
    "from matplotlib import pyplot as plt\n",
    "import datetime\n",
    "import time as timemodule\n",
    "import os\n",
    "import pandas as pd"
   ]
  },
  {
   "cell_type": "code",
   "execution_count": 2,
   "id": "768a7820",
   "metadata": {},
   "outputs": [],
   "source": [
    "path = 'files'\n",
    "filelist = os.listdir(path)\n",
    "L = len(filelist)"
   ]
  },
  {
   "cell_type": "code",
   "execution_count": 3,
   "id": "5dde3af6",
   "metadata": {},
   "outputs": [
    {
     "data": {
      "text/plain": [
       "['TSENSOR_6_KS.LOG',\n",
       " 'tsensor_calibration.txt',\n",
       " 'tsensor_calibration_time_constant_new.log',\n",
       " 'TSENSOR_cleaned.LOG',\n",
       " 'TSENSOR_DF.LOG',\n",
       " 'TSENSOR_DKB.LOG',\n",
       " 'TSENSOR_kmroz_fixed.LOG',\n",
       " 'TSENSOR_LG.LOG',\n",
       " 'TSENSOR_QR.LOG',\n",
       " 'TSENSOR_SimonS.LOG']"
      ]
     },
     "execution_count": 3,
     "metadata": {},
     "output_type": "execute_result"
    }
   ],
   "source": [
    "filelist"
   ]
  },
  {
   "cell_type": "markdown",
   "id": "86da493d",
   "metadata": {},
   "source": [
    "# time constant"
   ]
  },
  {
   "cell_type": "code",
   "execution_count": 4,
   "id": "0f93edbd",
   "metadata": {},
   "outputs": [],
   "source": [
    "# load data for reference thermometer\n",
    "fileREF = path + '/' + filelist[2]\n",
    "tsensor_REF =pd.read_csv(fileREF, sep=',', comment='#',names=[\"time\",\"temperature\"])\n",
    "time_REF = tsensor_REF.time.to_numpy()\n",
    "temp_REF = tsensor_REF.temperature.to_numpy()"
   ]
  },
  {
   "cell_type": "code",
   "execution_count": 5,
   "id": "37192c85",
   "metadata": {},
   "outputs": [],
   "source": [
    "# claculate interpolated time series to get values in between\n",
    "time_in_seconds= np.zeros(len(time_REF))\n",
    "deltaT = []\n",
    "for i in range(len(time_REF)):\n",
    "    deltaT = datetime.datetime.strptime(time_REF[i], '%H:%M:%S') - datetime.datetime.strptime(time_REF[0], '%H:%M:%S') \n",
    "    time_in_seconds[i] = deltaT.seconds\n",
    "    \n",
    "new_time_vec = np.linspace(0,time_in_seconds[-1],500)\n",
    "interp_temp = np.interp(new_time_vec, time_in_seconds, temp_REF)   "
   ]
  },
  {
   "cell_type": "code",
   "execution_count": 6,
   "id": "a65b07e0",
   "metadata": {
    "scrolled": false
   },
   "outputs": [
    {
     "data": {
      "image/png": "[encoded data removed]",
      "text/plain": [
       "<Figure size 640x480 with 1 Axes>"
      ]
     },
     "metadata": {},
     "output_type": "display_data"
    }
   ],
   "source": [
    "plt.plot(time_in_seconds, temp_REF)\n",
    "plt.plot(new_time_vec, interp_temp,'--')\n",
    "plt.xlabel('time in s')\n",
    "plt.ylabel('temperature in °C')\n",
    "plt.show()\n"
   ]
  },
  {
   "cell_type": "code",
   "execution_count": 7,
   "id": "e08f2a39",
   "metadata": {},
   "outputs": [
    {
     "name": "stdout",
     "output_type": "stream",
     "text": [
      "time constant of reference thermometer: 125.6 s\n"
     ]
    }
   ],
   "source": [
    "# find where temperature drop declines (defined as where the temperature only changes by 0.1)\n",
    "temp_diff_REF = temp_REF[:-1]-temp_REF[1:]\n",
    "ind_decline = np.where(temp_diff_REF < 0.1)[0][0]\n",
    "\n",
    "#determine temperature where 62.3% of the temperature change is reached\n",
    "temp_start = temp_REF[0]\n",
    "temp_end = temp_REF[ind_decline]\n",
    "temp_tau = temp_end + 1/np.e *(temp_start - temp_end)\n",
    "\n",
    "#detremine time constant tau\n",
    "ind_tau = np.where(interp_temp <= temp_tau)[0][0]\n",
    "time_tau = new_time_vec[ind_tau]\n",
    "\n",
    "print('time constant of reference thermometer:', round(time_tau,1),'s')"
   ]
  },
  {
   "cell_type": "code",
   "execution_count": 20,
   "id": "550f1cdb",
   "metadata": {},
   "outputs": [],
   "source": [
    "def determine_time_constant(file):\n",
    "\n",
    "    if file == 'files/TSENSOR_DKB.LOG':\n",
    "        tsensor = pd.read_csv(filename, sep=',', comment='#',names=[\"time\",\"millis\",\"ID\",\"temperature\",\"none\"])\n",
    "    else:\n",
    "        tsensor = pd.read_csv(file, sep=',', comment='#',names=[\"time\",\"millis\",\"ID\",\"temperature\"])\n",
    "    \n",
    "    print(file)\n",
    "    time = tsensor.time.to_numpy()\n",
    "    millis = tsensor.millis.to_numpy()\n",
    "    temp = tsensor.temperature.to_numpy()\n",
    "\n",
    "    # find temperature drop\n",
    "    I = ~np.isnan(temp)\n",
    "    \n",
    "    # get rid of nan\n",
    "    temp = temp[I]\n",
    "    time = time[I]\n",
    "    millis = millis[I]\n",
    "\n",
    "    temp_gradient = np.gradient(temp)\n",
    "    ind_drop = np.argmin(temp_gradient)\n",
    "    print(temp[ind_drop])\n",
    "    print(temp[ind_drop-10:ind_drop+1])\n",
    "\n",
    "    ind_correction = int(input(\"enter distance of index of correct start value from last value\"))\n",
    "    ind_start = ind_drop - ind_correction\n",
    "    print('start value:',temp[ind_start])\n",
    "\n",
    "    # find where temperature drop declines (defined as where the temperature only changes by 0.1)\n",
    "    temp_diff = temp[ind_start:-1]-temp[ind_start+1:]\n",
    "    ind_end = np.where(temp_diff < 0.1)[0][0] + ind_start\n",
    "\n",
    "    #determine temperature where 62.3% of the temperature change is reached\n",
    "    temp_start = temp[ind_start]\n",
    "    temp_end = temp[ind_end]\n",
    "    temp_tau = temp_end + 1/np.e *(temp_start - temp_end)\n",
    "\n",
    "    #detremine time constant tau\n",
    "    ind_tau = np.where(temp <= temp_tau)[0][0]\n",
    "    time_tau = millis[ind_tau]\n",
    "\n",
    "    print('time constant of thermometer:', round(time_tau,2),'ms')\n",
    "    print('                             ', round(time_tau/1000,2),'s')\n",
    "    #return time_tau"
   ]
  },
  {
   "cell_type": "code",
   "execution_count": null,
   "id": "5858aef9",
   "metadata": {},
   "outputs": [],
   "source": [
    "determine_time_constant(path + '/' + filelist[5])"
   ]
  },
  {
   "cell_type": "markdown",
   "id": "cff61ca4",
   "metadata": {},
   "source": [
    "# calibration"
   ]
  },
  {
   "cell_type": "code",
   "execution_count": 22,
   "id": "8766d00d",
   "metadata": {},
   "outputs": [],
   "source": [
    "fileCAL = path + '/' + filelist[1]\n",
    "tsensor_CAL = pd.read_csv(fileCAL, sep=',', comment='#',names=[\"time\",\"temperature\"])"
   ]
  },
  {
   "cell_type": "code",
   "execution_count": 32,
   "id": "bc644390",
   "metadata": {},
   "outputs": [],
   "source": [
    "time_CAL = tsensor_CAL.time.to_numpy()\n",
    "temp_CAL = tsensor_CAL.temperature.to_numpy()\n",
    "time_in_sec= np.zeros(len(time_CAL))\n",
    "deltaT = []\n",
    "for i in range(len(time_CAL)):\n",
    "    deltaT = datetime.datetime.strptime(time_CAL[i], '%H:%M:%S') - datetime.datetime.strptime(time_CAL[0], '%H:%M:%S') \n",
    "    time_in_sec[i] = deltaT.seconds"
   ]
  },
  {
   "cell_type": "code",
   "execution_count": 33,
   "id": "c80e9f39",
   "metadata": {},
   "outputs": [
    {
     "data": {
      "text/plain": [
       "[<matplotlib.lines.Line2D at 0x1f456a54e48>]"
      ]
     },
     "execution_count": 33,
     "metadata": {},
     "output_type": "execute_result"
    },
    {
     "data": {
      "image/png": "[encoded data removed]",
      "text/plain": [
       "<Figure size 640x480 with 1 Axes>"
      ]
     },
     "metadata": {},
     "output_type": "display_data"
    }
   ],
   "source": [
    "plt.plot(time_in_sec, temp_CAL)"
   ]
  },
  {
   "cell_type": "code",
   "execution_count": 39,
   "id": "f0f46215",
   "metadata": {},
   "outputs": [
    {
     "name": "stdout",
     "output_type": "stream",
     "text": [
      "files/TSENSOR_DF.LOG\n",
      "[1561 2720 3876 5020 6164]\n",
      "['2023-03-02T15:45:10Z' '2023-03-02T15:45:12Z' '2023-03-02T15:45:13Z'\n",
      " '2023-03-02T15:45:14Z' '2023-03-02T15:45:15Z']\n"
     ]
    }
   ],
   "source": [
    "file = path + '/' + filelist[4]\n",
    "if file == 'files/TSENSOR_DKB.LOG':\n",
    "    tsensor = pd.read_csv(filename, sep=',', comment='#',names=[\"time\",\"millis\",\"ID\",\"temperature\",\"none\"])\n",
    "else:\n",
    "    tsensor = pd.read_csv(file, sep=',', comment='#',names=[\"time\",\"millis\",\"ID\",\"temperature\"])\n",
    "\n",
    "print(file)\n",
    "time = tsensor.time.to_numpy()\n",
    "millis = tsensor.millis.to_numpy()\n",
    "temp = tsensor.temperature.to_numpy()\n",
    "print(millis[0:5])\n",
    "print(time[0:5])"
   ]
  },
  {
   "cell_type": "code",
   "execution_count": null,
   "id": "d35f2a60",
   "metadata": {},
   "outputs": [],
   "source": []
  }
 ],
 "metadata": {
  "kernelspec": {
   "display_name": "Python 3 (ipykernel)",
   "language": "python",
   "name": "python3"
  },
  "language_info": {
   "codemirror_mode": {
    "name": "ipython",
    "version": 3
   },
   "file_extension": ".py",
   "mimetype": "text/x-python",
   "name": "python",
   "nbconvert_exporter": "python",
   "pygments_lexer": "ipython3",
   "version": "3.7.15"
  }
 },
 "nbformat": 4,
 "nbformat_minor": 5
}
