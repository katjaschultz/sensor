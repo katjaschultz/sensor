{
 "cells": [
  {
   "cell_type": "code",
   "execution_count": 168,
   "id": "5da3343f",
   "metadata": {},
   "outputs": [],
   "source": [
    "import numpy as np\n",
    "import math\n",
    "from matplotlib import pyplot as plt\n",
    "import datetime\n",
    "import time as timemodule\n",
    "import os\n",
    "import pandas as pd\n",
    "from scipy import interpolate"
   ]
  },
  {
   "cell_type": "code",
   "execution_count": 2,
   "id": "b4fefd55",
   "metadata": {},
   "outputs": [],
   "source": [
    "path = 'files'\n",
    "filelist = os.listdir(path)\n",
    "L = len(filelist)"
   ]
  },
  {
   "cell_type": "code",
   "execution_count": 3,
   "id": "e597cdc1",
   "metadata": {},
   "outputs": [
    {
     "data": {
      "text/plain": [
       "['TSENSOR_6_KS.LOG',\n",
       " 'tsensor_calibration.txt',\n",
       " 'tsensor_calibration_time_constant_new.log',\n",
       " 'TSENSOR_cleaned.LOG',\n",
       " 'TSENSOR_DF.LOG',\n",
       " 'TSENSOR_DKB.LOG',\n",
       " 'TSENSOR_kmroz_fixed.LOG',\n",
       " 'TSENSOR_LG.LOG',\n",
       " 'TSENSOR_QR.LOG',\n",
       " 'TSENSOR_SimonS.LOG']"
      ]
     },
     "execution_count": 3,
     "metadata": {},
     "output_type": "execute_result"
    }
   ],
   "source": [
    "filelist"
   ]
  },
  {
   "cell_type": "markdown",
   "id": "bb35e703",
   "metadata": {},
   "source": [
    "# time constant"
   ]
  },
  {
   "cell_type": "code",
   "execution_count": 4,
   "id": "b2cbc6b8",
   "metadata": {},
   "outputs": [],
   "source": [
    "# load data for reference thermometer\n",
    "fileREF = path + '/' + filelist[2]\n",
    "tsensor_REF =pd.read_csv(fileREF, sep=',', comment='#',names=[\"time\",\"temperature\"])\n",
    "time_REF = tsensor_REF.time.to_numpy()\n",
    "temp_REF = tsensor_REF.temperature.to_numpy()"
   ]
  },
  {
   "cell_type": "code",
   "execution_count": 5,
   "id": "ae43ed34",
   "metadata": {},
   "outputs": [],
   "source": [
    "# claculate interpolated time series to get values in between\n",
    "time_in_seconds= np.zeros(len(time_REF))\n",
    "deltaT = []\n",
    "for i in range(len(time_REF)):\n",
    "    deltaT = datetime.datetime.strptime(time_REF[i], '%H:%M:%S') - datetime.datetime.strptime(time_REF[0], '%H:%M:%S') \n",
    "    time_in_seconds[i] = deltaT.seconds\n",
    "    \n",
    "new_time_vec = np.linspace(0,time_in_seconds[-1],500)\n",
    "interp_temp = np.interp(new_time_vec, time_in_seconds, temp_REF)   "
   ]
  },
  {
   "cell_type": "code",
   "execution_count": 6,
   "id": "afb23a02",
   "metadata": {
    "scrolled": false
   },
   "outputs": [
    {
     "data": {
      "image/png": "[encoded data removed]",
      "text/plain": [
       "<Figure size 640x480 with 1 Axes>"
      ]
     },
     "metadata": {},
     "output_type": "display_data"
    }
   ],
   "source": [
    "plt.plot(time_in_seconds, temp_REF)\n",
    "plt.plot(new_time_vec, interp_temp,'--')\n",
    "plt.xlabel('time in s')\n",
    "plt.ylabel('temperature in °C')\n",
    "plt.show()\n"
   ]
  },
  {
   "cell_type": "code",
   "execution_count": 7,
   "id": "cd68e559",
   "metadata": {},
   "outputs": [
    {
     "name": "stdout",
     "output_type": "stream",
     "text": [
      "time constant of reference thermometer: 11.4 s\n"
     ]
    }
   ],
   "source": [
    "# find where temperature drop declines (defined as where the temperature only changes by 0.1)\n",
    "temp_diff_REF = temp_REF[:-1]-temp_REF[1:]\n",
    "ind_decline = np.where(temp_diff_REF < 0.1)[0][0]\n",
    "\n",
    "#determine temperature where 62.3% of the temperature change is reached\n",
    "temp_start = temp_REF[1]\n",
    "temp_end = temp_REF[ind_decline]\n",
    "temp_tau = temp_end + 1/np.e *(temp_start - temp_end)\n",
    "\n",
    "#detremine time constant tau\n",
    "ind_tau = np.where(interp_temp <= temp_tau)[0][0]\n",
    "time_tau = new_time_vec[ind_tau] - time_in_seconds[1]\n",
    "\n",
    "print('time constant of reference thermometer:', round(time_tau,1),'s')"
   ]
  },
  {
   "cell_type": "code",
   "execution_count": 20,
   "id": "df8a6efb",
   "metadata": {},
   "outputs": [],
   "source": [
    "def determine_time_constant(file):\n",
    "\n",
    "    if file == 'files/TSENSOR_DKB.LOG':\n",
    "        tsensor = pd.read_csv(filename, sep=',', comment='#',names=[\"time\",\"millis\",\"ID\",\"temperature\",\"none\"])\n",
    "    else:\n",
    "        tsensor = pd.read_csv(file, sep=',', comment='#',names=[\"time\",\"millis\",\"ID\",\"temperature\"])\n",
    "    \n",
    "    print(file)\n",
    "    time = tsensor.time.to_numpy()\n",
    "    millis = tsensor.millis.to_numpy()\n",
    "    temp = tsensor.temperature.to_numpy()\n",
    "\n",
    "    # find temperature drop\n",
    "    I = ~np.isnan(temp)\n",
    "    \n",
    "    # get rid of nan\n",
    "    temp = temp[I]\n",
    "    time = time[I]\n",
    "    millis = millis[I]\n",
    "\n",
    "    temp_gradient = np.gradient(temp)\n",
    "    ind_drop = np.argmin(temp_gradient)\n",
    "    print(temp[ind_drop])\n",
    "    print(temp[ind_drop-10:ind_drop+1])\n",
    "\n",
    "    ind_correction = int(input(\"enter distance of index of correct start value from last value\"))\n",
    "    ind_start = ind_drop - ind_correction\n",
    "    print('start value:',temp[ind_start])\n",
    "\n",
    "    # find where temperature drop declines (defined as where the temperature only changes by 0.1)\n",
    "    temp_diff = temp[ind_start:-1]-temp[ind_start+1:]\n",
    "    ind_end = np.where(temp_diff < 0.1)[0][0] + ind_start\n",
    "\n",
    "    #determine temperature where 62.3% of the temperature change is reached\n",
    "    temp_start = temp[ind_start]\n",
    "    temp_end = temp[ind_end]\n",
    "    temp_tau = temp_end + 1/np.e *(temp_start - temp_end)\n",
    "\n",
    "    #detremine time constant tau\n",
    "    ind_tau = np.where(temp <= temp_tau)[0][0]\n",
    "    time_tau = millis[ind_tau]\n",
    "\n",
    "    print('time constant of thermometer:', round(time_tau,2),'ms')\n",
    "    print('                             ', round(time_tau/1000,2),'s')\n",
    "    #return time_tau"
   ]
  },
  {
   "cell_type": "code",
   "execution_count": null,
   "id": "5277e527",
   "metadata": {},
   "outputs": [],
   "source": [
    "determine_time_constant(path + '/' + filelist[5])"
   ]
  },
  {
   "cell_type": "code",
   "execution_count": null,
   "id": "960d9662",
   "metadata": {},
   "outputs": [],
   "source": [
    "file_KS = filename = path + '/' + filelist[0]\n",
    "tsensor_KS = pd.read_csv(file_KS, sep=',', comment='#',names=[\"time\",\"millis\",\"ID\",\"temperature\"])\n",
    "tsensor.plot('millis','temperature')\n",
    "plt.show()"
   ]
  },
  {
   "cell_type": "markdown",
   "id": "3d6af726",
   "metadata": {},
   "source": [
    "# calibration"
   ]
  },
  {
   "cell_type": "code",
   "execution_count": 22,
   "id": "d6472cbc",
   "metadata": {},
   "outputs": [],
   "source": [
    "fileCAL = path + '/' + filelist[1]\n",
    "tsensor_CAL = pd.read_csv(fileCAL, sep=',', comment='#',names=[\"time\",\"temperature\"])"
   ]
  },
  {
   "cell_type": "code",
   "execution_count": 397,
   "id": "be19df6a",
   "metadata": {},
   "outputs": [],
   "source": [
    "def calibration(file):\n",
    "    # reference thermometer\n",
    "    fileCAL = path + '/' + filelist[1]\n",
    "    tsensor_CAL = pd.read_csv(fileCAL, sep=',', comment='#',names=[\"time\",\"temperature\"])\n",
    "    time_CAL = tsensor_CAL.time.to_numpy()\n",
    "    temp_CAL = tsensor_CAL.temperature.to_numpy()\n",
    "    time_in_sec= np.zeros(len(time_CAL))\n",
    "    deltaT = []\n",
    "    for i in range(len(time_CAL)):\n",
    "        deltaT = datetime.datetime.strptime(time_CAL[i], '%H:%M:%S' ) - datetime.datetime.strptime(time_CAL[0], '%H:%M:%S' )\n",
    "        time_in_sec[i] = deltaT.seconds\n",
    "    \n",
    "    if file == 'files/TSENSOR_DKB.LOG':\n",
    "        tsensor = pd.read_csv(filename, sep=',', comment='#',names=[\"time\",\"millis\",\"ID\",\"temperature\",\"none\"])\n",
    "    else:\n",
    "        tsensor = pd.read_csv(file, sep=',', comment='#',names=[\"time\",\"millis\",\"ID\",\"temperature\"])\n",
    "\n",
    "    print(file)\n",
    "    time = tsensor.time.to_numpy()\n",
    "    millis = tsensor.millis.to_numpy()\n",
    "    temp = tsensor.temperature.to_numpy()\n",
    "    # find temperature drop\n",
    "    I = ~np.isnan(temp)\n",
    "\n",
    "    # get rid of nan\n",
    "    temp = temp[I]\n",
    "    time = time[I]\n",
    "    millis = millis[I]\n",
    "\n",
    "    temp_gradient = np.gradient(temp)\n",
    "    ind_drop = np.argmin(temp_gradient)\n",
    "    print(temp[ind_drop])\n",
    "    print(temp[ind_drop-10:ind_drop+1])\n",
    "\n",
    "    ind_correction = int(input(\"enter distance of index of correct start value from last value\"))\n",
    "    ind_start = ind_drop - ind_correction\n",
    "    print('start value:',temp[ind_start])\n",
    "\n",
    "    #determine time difference to reference logger\n",
    "    dT = datetime.datetime.strptime(time_REF[ind_decline], '%H:%M:%S' ) - datetime.datetime.strptime(time[ind_start], '%Y-%m-%dT%H:%M:%SZ') \n",
    "    delta_seconds = dT.seconds\n",
    "\n",
    "    delta0 = datetime.datetime.strptime(time_CAL[0],'%H:%M:%S') - datetime.datetime.strptime(time_REF[0], '%H:%M:%S' )\n",
    "    start_cal_logger = millis[ind_start]/1000 + delta0.seconds\n",
    "\n",
    "    for i in range(len(time)):\n",
    "        if start_cal_logger <= millis[i]/1000:\n",
    "            ind_start_cal = i\n",
    "            break\n",
    "\n",
    "    time_in_sec_logger = millis[ind_start_cal:]/1000-millis[ind_start_cal]/1000\n",
    "\n",
    "    # interpolate values of logger to time acis of reference thermometer\n",
    "    p = np.polyfit(time_in_sec_logger, temp[ind_start_cal:],1)\n",
    "    temp_interp = np.polyval(p, time_in_sec)\n",
    "\n",
    "    P = np.polyfit(temp_interp, temp_CAL, 4)\n",
    "    temp_out = np.polyval(P, temp[ind_start_cal:])\n",
    "    print('linear regression values:', round(P[4],4), round(P[3],4), round(P[2],4), round(P[1],4), round(P[0],4))\n",
    "    \n",
    "    #calculate error for precision\n",
    "    index = np.zeros(len(time_in_sec), dtype=int)\n",
    "    for i in range(1,len(time_in_sec)):\n",
    "        if time_in_sec[i] <= time_in_sec_logger[-1]:\n",
    "            index[i] = int(np.where( time_in_sec_logger >= time_in_sec[i])[0][0])-1\n",
    "        else:\n",
    "            index = index[0:i]\n",
    "            break\n",
    "            \n",
    "    err = np.zeros(len(index))\n",
    "    for i in range(0,len(index)):\n",
    "        err[i] = np.abs( temp_out[index[i]] - temp_CAL[i] )\n",
    "    std = np.sqrt( np.sum(err**2) * 1/(len(index)) )\n",
    "    error = np.sum(err)/len(index)\n",
    "                   \n",
    "    print('error:', round(error,5))\n",
    "    print('std:', round(std,4))\n",
    "    \n",
    "    return time_in_sec, temp_CAL, temp, ind_start_cal, temp_interp, time_in_sec_logger, temp_out, error"
   ]
  },
  {
   "cell_type": "code",
   "execution_count": 406,
   "id": "9ab7c678",
   "metadata": {},
   "outputs": [
    {
     "name": "stdout",
     "output_type": "stream",
     "text": [
      "files/TSENSOR_6_KS.LOG\n",
      "18.75\n",
      "[24.31 24.31 24.31 24.38 24.31 24.38 24.31 24.38 24.31 22.13 18.75]\n",
      "enter distance of index of correct start value from last value2\n",
      "start value: 24.31\n",
      "linear regression values: 2.3876 -0.666 0.1869 -0.0086 0.0001\n",
      "error: 0.05284\n",
      "std: 0.0685\n"
     ]
    }
   ],
   "source": [
    "time_in_sec, temp_CAL, temp, ind_start_cal, temp_interp, time_in_sec_logger, temp_out, error = calibration(path + '/' + filelist[0])"
   ]
  },
  {
   "cell_type": "code",
   "execution_count": 407,
   "id": "7d4d0b25",
   "metadata": {},
   "outputs": [
    {
     "data": {
      "image/png": "[encoded data removed]",
      "text/plain": [
       "<Figure size 640x480 with 1 Axes>"
      ]
     },
     "metadata": {},
     "output_type": "display_data"
    }
   ],
   "source": [
    "plt.plot(time_in_sec, temp_CAL, label='reference thermometer', linewidth=2)\n",
    "plt.plot(time_in_sec_logger, temp[ind_start_cal:], 'g', label='measured values',linewidth=2)\n",
    "#plt.plot(time_in_sec, temp_interp,'--', label='')\n",
    "plt.plot(time_in_sec_logger, temp_out, '--', label='calibrated values',linewidth=2)\n",
    "plt.legend()\n",
    "plt.xlabel('time [s]')\n",
    "plt.title('calibration of thermometer KS')\n",
    "plt.ylabel('temperature [°C]')\n",
    "plt.show()"
   ]
  },
  {
   "cell_type": "code",
   "execution_count": 351,
   "id": "4bfa950e",
   "metadata": {},
   "outputs": [
    {
     "data": {
      "text/plain": [
       "0.14803827179309453"
      ]
     },
     "execution_count": 351,
     "metadata": {},
     "output_type": "execute_result"
    }
   ],
   "source": [
    "error"
   ]
  },
  {
   "cell_type": "code",
   "execution_count": 301,
   "id": "815e27db",
   "metadata": {},
   "outputs": [
    {
     "data": {
      "text/plain": [
       "245.59016329617367"
      ]
     },
     "execution_count": 301,
     "metadata": {},
     "output_type": "execute_result"
    }
   ],
   "source": [
    "error"
   ]
  },
  {
   "cell_type": "code",
   "execution_count": 338,
   "id": "ae270fea",
   "metadata": {},
   "outputs": [],
   "source": [
    "err = np.zeros(len(index))\n",
    "for i in range(1,len(index)):\n",
    "        err[i] = np.abs( temp_out[index[i]] - temp_CAL[i] )\n",
    "error = np.sum(err)/len(index)"
   ]
  },
  {
   "cell_type": "code",
   "execution_count": 341,
   "id": "65b01f92",
   "metadata": {},
   "outputs": [
    {
     "data": {
      "text/plain": [
       "18.65118847673153"
      ]
     },
     "execution_count": 341,
     "metadata": {},
     "output_type": "execute_result"
    }
   ],
   "source": [
    "temp_out[index[0]]"
   ]
  },
  {
   "cell_type": "code",
   "execution_count": 340,
   "id": "8186ce7f",
   "metadata": {},
   "outputs": [
    {
     "data": {
      "text/plain": [
       "3.0"
      ]
     },
     "execution_count": 340,
     "metadata": {},
     "output_type": "execute_result"
    }
   ],
   "source": [
    "temp_CAL[0]"
   ]
  },
  {
   "cell_type": "code",
   "execution_count": 342,
   "id": "1683d58a",
   "metadata": {},
   "outputs": [
    {
     "data": {
      "text/plain": [
       "-1"
      ]
     },
     "execution_count": 342,
     "metadata": {},
     "output_type": "execute_result"
    }
   ],
   "source": [
    "index[0]"
   ]
  },
  {
   "cell_type": "code",
   "execution_count": 274,
   "id": "c6597e08",
   "metadata": {},
   "outputs": [
    {
     "data": {
      "text/plain": [
       "16"
      ]
     },
     "execution_count": 274,
     "metadata": {},
     "output_type": "execute_result"
    }
   ],
   "source": [
    "i"
   ]
  },
  {
   "cell_type": "code",
   "execution_count": null,
   "id": "c5dcab4b",
   "metadata": {},
   "outputs": [],
   "source": []
  }
 ],
 "metadata": {
  "kernelspec": {
   "display_name": "Python 3 (ipykernel)",
   "language": "python",
   "name": "python3"
  },
  "language_info": {
   "codemirror_mode": {
    "name": "ipython",
    "version": 3
   },
   "file_extension": ".py",
   "mimetype": "text/x-python",
   "name": "python",
   "nbconvert_exporter": "python",
   "pygments_lexer": "ipython3",
   "version": "3.7.15"
  }
 },
 "nbformat": 4,
 "nbformat_minor": 5
}
